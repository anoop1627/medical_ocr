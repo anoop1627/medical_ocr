{
 "cells": [
  {
   "cell_type": "code",
   "execution_count": 90,
   "id": "5aac9454-2fc2-45b1-ade0-2590dd488f1e",
   "metadata": {},
   "outputs": [],
   "source": [
    "from pdf2image import convert_from_path\n",
    "pages = convert_from_path(r'docs/patient_details/pd_1.pdf', poppler_path=r'C:\\poppler-24.08.0\\Library\\bin')"
   ]
  },
  {
   "cell_type": "code",
   "execution_count": 91,
   "id": "f68867d0-64c1-4c98-98c4-a9340361a70a",
   "metadata": {},
   "outputs": [],
   "source": [
    "pages[0].show()\n"
   ]
  },
  {
   "cell_type": "code",
   "execution_count": 92,
   "id": "c54fec6a-ec77-4a9e-b059-27cfebb6e26f",
   "metadata": {},
   "outputs": [
    {
     "name": "stdout",
     "output_type": "stream",
     "text": [
      "47/12/2020\n",
      "\n",
      "Patient Medical Record\n",
      "\n",
      "Patient Information Birth Date\n",
      "Kathy Crawford May 6 1972\n",
      "(737) 988-0851 Weight\n",
      "9264 Ash Dr 95\n",
      "New York City, 10005 .\n",
      "United States Height:\n",
      "190\n",
      "In Case of Emergency\n",
      "m _ a _\n",
      "Simeone Crawford 9266 Ash Dr\n",
      "New York City, New York, 10005\n",
      "Home phone United States\n",
      "(990) 375-4621\n",
      "Work phone\n",
      "Genera! Medical History\n",
      "\n",
      "Chicken Pox (Varicella):\n",
      "\n",
      "IMMUNE\n",
      "\n",
      "Have you had the Hepatitis B vaccination?\n",
      "\n",
      "No\n",
      "\n",
      "List any Medical Problems (asthma, seizures, headaches):\n",
      "\n",
      "Migraine\n",
      "\n"
     ]
    }
   ],
   "source": [
    "import pytesseract\n",
    "pytesseract.pytesseract.tesseract_cmd=r'C:\\Program Files\\Tesseract-OCR\\tesseract.exe'\n",
    "text = pytesseract.image_to_string(pages[0], lang='eng')\n",
    "print(text)"
   ]
  },
  {
   "cell_type": "code",
   "execution_count": 93,
   "id": "4d033dc1-3304-4855-bf0c-2b3b3579c95c",
   "metadata": {},
   "outputs": [],
   "source": [
    "import numpy as np\n",
    "import cv2\n",
    "from PIL import Image\n",
    "def preprocess_image(img):\n",
    "    gray = cv2.cvtColor(np.array(img), cv2.COLOR_BGR2GRAY)\n",
    "    resized = cv2.resize(gray, None, fx=1.5, fy=1.5, interpolation=cv2.INTER_LINEAR)\n",
    "    processed_img = cv2.adaptiveThreshold(\n",
    "        resized,\n",
    "        255,\n",
    "        cv2.ADAPTIVE_THRESH_GAUSSIAN_C,\n",
    "        cv2.THRESH_BINARY,\n",
    "        61,\n",
    "        11\n",
    "    )\n",
    "    return processed_img"
   ]
  },
  {
   "cell_type": "code",
   "execution_count": 94,
   "id": "b3ebee4f-8e5e-44c7-875a-f2bd84496418",
   "metadata": {},
   "outputs": [],
   "source": [
    "img = preprocess_image(pages[0])\n",
    "from PIL import Image\n",
    "Image.fromarray(img).show()"
   ]
  },
  {
   "cell_type": "code",
   "execution_count": 95,
   "id": "fee926eb-997b-49a7-8727-02805b8cb07f",
   "metadata": {},
   "outputs": [
    {
     "name": "stdout",
     "output_type": "stream",
     "text": [
      "17/12/2020\n",
      "\n",
      "Patient Medical Record\n",
      "\n",
      "Patient Information Birth Date\n",
      "Kathy Crawford May 6 1972\n",
      "(737) 988-0851 Weight’\n",
      "9264 Ash Dr 95\n",
      "New York City, 10005 .\n",
      "United States Height:\n",
      "190\n",
      "In Casc of Emergency\n",
      "7 ee\n",
      "Simeone Crawford 9266 Ash Dr\n",
      "New York City, New York, 10005\n",
      "Home phone United States\n",
      "(990) 375-4621\n",
      "Work phone\n",
      "\n",
      "Genera! Medical History\n",
      "\n",
      "a\n",
      "\n",
      "a\n",
      "\n",
      "a ea A CE i a\n",
      "\n",
      "Chicken Pox (Varicella): Measies:\n",
      "\n",
      "IMMUNE IMMUNE\n",
      "\n",
      "Have you had the Hepatitis B vaccination?\n",
      "No\n",
      "\n",
      "List any Medical Problems (asthma, seizures, headaches}:\n",
      "\n",
      "Migraine\n",
      "\n",
      "CO\n",
      "aa\n",
      "\n"
     ]
    }
   ],
   "source": [
    "text = pytesseract.image_to_string(img, lang='eng')\n",
    "print(text)"
   ]
  },
  {
   "cell_type": "code",
   "execution_count": 68,
   "id": "7bdc8158-0a62-4b9e-858b-0f0ff1ec705c",
   "metadata": {},
   "outputs": [
    {
     "data": {
      "text/plain": [
       "['\\nKathy Crawford May 6 1972\\n']"
      ]
     },
     "execution_count": 68,
     "metadata": {},
     "output_type": "execute_result"
    }
   ],
   "source": [
    "import re\n",
    "\n",
    "pattern = 'Birth Date(.*?)\\(\\d{3}\\)'\n",
    "\n",
    "matches = re.findall(pattern,text, flags=re.DOTALL)\n",
    "matches"
   ]
  },
  {
   "cell_type": "code",
   "execution_count": 69,
   "id": "995de875-d49b-4ca7-a14d-a6128347668b",
   "metadata": {},
   "outputs": [
    {
     "data": {
      "text/plain": [
       "'Kathy Crawford May 6 1972'"
      ]
     },
     "execution_count": 69,
     "metadata": {},
     "output_type": "execute_result"
    }
   ],
   "source": [
    "match = matches[0].strip()\n",
    "match"
   ]
  },
  {
   "cell_type": "code",
   "execution_count": 71,
   "id": "d1ee2f6c-6c48-4b3b-b7a6-7d609bcaf5b3",
   "metadata": {},
   "outputs": [
    {
     "data": {
      "text/plain": [
       "'May 6 1972'"
      ]
     },
     "execution_count": 71,
     "metadata": {},
     "output_type": "execute_result"
    }
   ],
   "source": [
    "pattern = '((?:Jan|Feb|Mar|Apr|May|Jun|Jul|Aug|Sep|Oct|Nov|Dec) (?:\\d+ \\d{4}))'\n",
    "date_matches = re.findall(pattern,text, flags=re.DOTALL)\n",
    "date = date_matches[0].strip()\n",
    "date"
   ]
  },
  {
   "cell_type": "code",
   "execution_count": 61,
   "id": "4ea97c6c-8ac6-4700-ae3b-f5cd195b6e69",
   "metadata": {},
   "outputs": [
    {
     "data": {
      "text/plain": [
       "'Jerry Lucas'"
      ]
     },
     "execution_count": 61,
     "metadata": {},
     "output_type": "execute_result"
    }
   ],
   "source": [
    "match.replace(date, '').strip()"
   ]
  },
  {
   "cell_type": "code",
   "execution_count": 41,
   "id": "059cc18e-deb3-4ef2-8ca0-cc86c80d6efd",
   "metadata": {},
   "outputs": [],
   "source": [
    "def remove_noise_from_name(text1):\n",
    "    pattern = 'Birth Date(.*?)\\(\\d{3}\\)'\n",
    "    matches = re.findall(pattern,text1, flags=re.DOTALL)\n",
    "    matches\n",
    "    match = matches[0].strip()\n",
    "    pattern = '((?:Jan|Feb|Mar|Apr|May|Jun|Jul|Aug|Sep|Oct|Nov|Dec) (?:\\d+ \\d{4}))'\n",
    "    date_matches = re.findall(pattern,match, flags=re.DOTALL)\n",
    "    date = date_matches[0].strip()\n",
    "    name = match.replace(date, '').strip()\n",
    "    return name"
   ]
  },
  {
   "cell_type": "code",
   "execution_count": 42,
   "id": "8a36fb39-bdcd-49e8-90dd-4749ae206844",
   "metadata": {},
   "outputs": [
    {
     "data": {
      "text/plain": [
       "'Kathy Crawford'"
      ]
     },
     "execution_count": 42,
     "metadata": {},
     "output_type": "execute_result"
    }
   ],
   "source": [
    "name = remove_noise_from_name(text)\n",
    "name"
   ]
  },
  {
   "cell_type": "code",
   "execution_count": 47,
   "id": "a23448d3-ca53-406d-b074-99a884912622",
   "metadata": {},
   "outputs": [
    {
     "data": {
      "text/plain": [
       "'(737) 988-0851'"
      ]
     },
     "execution_count": 47,
     "metadata": {},
     "output_type": "execute_result"
    }
   ],
   "source": [
    "pattern = 'Patient Information(.*?)(\\(\\d{3}\\) \\d{3}\\-\\d{4})'\n",
    "matches = re.findall(pattern,text, flags=re.DOTALL)\n",
    "\n",
    "phno = matches[0][1].strip()\n",
    "phno"
   ]
  },
  {
   "cell_type": "code",
   "execution_count": 50,
   "id": "a456993f-2e9a-4d05-aedc-fa2d59594079",
   "metadata": {},
   "outputs": [
    {
     "data": {
      "text/plain": [
       "'No'"
      ]
     },
     "execution_count": 50,
     "metadata": {},
     "output_type": "execute_result"
    }
   ],
   "source": [
    "pattern = 'Have you had the Hepatitis B vaccination\\?.*(Yes|No)'\n",
    "matches = re.findall(pattern,text, flags=re.DOTALL)\n",
    "\n",
    "Hep_response = matches[0].strip()\n",
    "Hep_response"
   ]
  },
  {
   "cell_type": "code",
   "execution_count": 51,
   "id": "1be783cb-ee79-44ef-9bc4-17da7be4990a",
   "metadata": {},
   "outputs": [
    {
     "data": {
      "text/plain": [
       "'Migraine'"
      ]
     },
     "execution_count": 51,
     "metadata": {},
     "output_type": "execute_result"
    }
   ],
   "source": [
    "pattern = 'List any Medical Problems \\(asthma, seizures, headaches}:(.*)CO'\n",
    "matches = re.findall(pattern,text, flags=re.DOTALL)\n",
    "\n",
    "med_prob = matches[0].strip()\n",
    "med_prob"
   ]
  },
  {
   "cell_type": "code",
   "execution_count": null,
   "id": "fc6651da-1eae-4782-a049-ce347174a4d7",
   "metadata": {},
   "outputs": [],
   "source": []
  }
 ],
 "metadata": {
  "kernelspec": {
   "display_name": "Python 3 (ipykernel)",
   "language": "python",
   "name": "python3"
  },
  "language_info": {
   "codemirror_mode": {
    "name": "ipython",
    "version": 3
   },
   "file_extension": ".py",
   "mimetype": "text/x-python",
   "name": "python",
   "nbconvert_exporter": "python",
   "pygments_lexer": "ipython3",
   "version": "3.10.11"
  }
 },
 "nbformat": 4,
 "nbformat_minor": 5
}
